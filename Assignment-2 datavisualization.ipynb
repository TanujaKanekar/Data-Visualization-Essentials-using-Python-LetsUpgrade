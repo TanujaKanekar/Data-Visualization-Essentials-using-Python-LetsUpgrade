{
 "cells": [
  {
   "cell_type": "markdown",
   "metadata": {},
   "source": [
    "## Day2 Assignment"
   ]
  },
  {
   "cell_type": "markdown",
   "metadata": {},
   "source": [
    "#### Question1"
   ]
  },
  {
   "cell_type": "code",
   "execution_count": 7,
   "metadata": {},
   "outputs": [],
   "source": [
    "import matplotlib.pyplot as plt\n",
    "import numpy as np\n",
    "import pandas as pd\n",
    "import seaborn as sns\n",
    "from numpy.random import randn,randint,uniform,sample"
   ]
  },
  {
   "cell_type": "markdown",
   "metadata": {},
   "source": [
    "#### creating a dataframe and randomly picking values for 10 rows in 4 columns"
   ]
  },
  {
   "cell_type": "code",
   "execution_count": 8,
   "metadata": {},
   "outputs": [
    {
     "data": {
      "text/html": [
       "<div>\n",
       "<style scoped>\n",
       "    .dataframe tbody tr th:only-of-type {\n",
       "        vertical-align: middle;\n",
       "    }\n",
       "\n",
       "    .dataframe tbody tr th {\n",
       "        vertical-align: top;\n",
       "    }\n",
       "\n",
       "    .dataframe thead th {\n",
       "        text-align: right;\n",
       "    }\n",
       "</style>\n",
       "<table border=\"1\" class=\"dataframe\">\n",
       "  <thead>\n",
       "    <tr style=\"text-align: right;\">\n",
       "      <th></th>\n",
       "      <th>a</th>\n",
       "      <th>b</th>\n",
       "      <th>c</th>\n",
       "      <th>d</th>\n",
       "    </tr>\n",
       "  </thead>\n",
       "  <tbody>\n",
       "    <tr>\n",
       "      <th>0</th>\n",
       "      <td>0.106442</td>\n",
       "      <td>-0.399949</td>\n",
       "      <td>-1.092804</td>\n",
       "      <td>1.393142</td>\n",
       "    </tr>\n",
       "    <tr>\n",
       "      <th>1</th>\n",
       "      <td>-1.496475</td>\n",
       "      <td>0.965001</td>\n",
       "      <td>-0.902252</td>\n",
       "      <td>0.948022</td>\n",
       "    </tr>\n",
       "    <tr>\n",
       "      <th>2</th>\n",
       "      <td>1.047904</td>\n",
       "      <td>-0.698360</td>\n",
       "      <td>0.325534</td>\n",
       "      <td>-1.400290</td>\n",
       "    </tr>\n",
       "    <tr>\n",
       "      <th>3</th>\n",
       "      <td>-0.639328</td>\n",
       "      <td>-0.398313</td>\n",
       "      <td>0.424446</td>\n",
       "      <td>-2.373164</td>\n",
       "    </tr>\n",
       "    <tr>\n",
       "      <th>4</th>\n",
       "      <td>0.637101</td>\n",
       "      <td>-1.994974</td>\n",
       "      <td>2.365557</td>\n",
       "      <td>0.147161</td>\n",
       "    </tr>\n",
       "    <tr>\n",
       "      <th>5</th>\n",
       "      <td>-1.179211</td>\n",
       "      <td>-0.524777</td>\n",
       "      <td>-1.703284</td>\n",
       "      <td>0.045267</td>\n",
       "    </tr>\n",
       "    <tr>\n",
       "      <th>6</th>\n",
       "      <td>0.708767</td>\n",
       "      <td>1.513706</td>\n",
       "      <td>-1.627017</td>\n",
       "      <td>0.758298</td>\n",
       "    </tr>\n",
       "    <tr>\n",
       "      <th>7</th>\n",
       "      <td>1.395626</td>\n",
       "      <td>-0.757186</td>\n",
       "      <td>-1.014192</td>\n",
       "      <td>0.689895</td>\n",
       "    </tr>\n",
       "    <tr>\n",
       "      <th>8</th>\n",
       "      <td>-1.602945</td>\n",
       "      <td>0.910667</td>\n",
       "      <td>1.012122</td>\n",
       "      <td>0.872230</td>\n",
       "    </tr>\n",
       "    <tr>\n",
       "      <th>9</th>\n",
       "      <td>-0.774544</td>\n",
       "      <td>-2.684105</td>\n",
       "      <td>0.674674</td>\n",
       "      <td>0.101976</td>\n",
       "    </tr>\n",
       "  </tbody>\n",
       "</table>\n",
       "</div>"
      ],
      "text/plain": [
       "          a         b         c         d\n",
       "0  0.106442 -0.399949 -1.092804  1.393142\n",
       "1 -1.496475  0.965001 -0.902252  0.948022\n",
       "2  1.047904 -0.698360  0.325534 -1.400290\n",
       "3 -0.639328 -0.398313  0.424446 -2.373164\n",
       "4  0.637101 -1.994974  2.365557  0.147161\n",
       "5 -1.179211 -0.524777 -1.703284  0.045267\n",
       "6  0.708767  1.513706 -1.627017  0.758298\n",
       "7  1.395626 -0.757186 -1.014192  0.689895\n",
       "8 -1.602945  0.910667  1.012122  0.872230\n",
       "9 -0.774544 -2.684105  0.674674  0.101976"
      ]
     },
     "execution_count": 8,
     "metadata": {},
     "output_type": "execute_result"
    }
   ],
   "source": [
    "df=pd.DataFrame(randn(10,4),columns=['a','b','c','d'])\n",
    "df"
   ]
  },
  {
   "cell_type": "markdown",
   "metadata": {},
   "source": [
    "#### plotting the dataframe using bargraph "
   ]
  },
  {
   "cell_type": "code",
   "execution_count": 9,
   "metadata": {},
   "outputs": [
    {
     "data": {
      "text/plain": [
       "Text(0.5, 1.0, 'BAR GRAPH')"
      ]
     },
     "execution_count": 9,
     "metadata": {},
     "output_type": "execute_result"
    },
    {
     "data": {
      "image/png": "[encoded data removed]",
      "text/plain": [
       "<Figure size 800x560 with 1 Axes>"
      ]
     },
     "metadata": {},
     "output_type": "display_data"
    }
   ],
   "source": [
    "plt.style.use('classic')\n",
    "df.plot(kind='bar',grid=True,figsize=(10,7))\n",
    "plt.ylabel('Random numbers')\n",
    "plt.xlabel('columns')\n",
    "plt.title('BAR GRAPH')\n",
    "\n"
   ]
  },
  {
   "cell_type": "code",
   "execution_count": null,
   "metadata": {},
   "outputs": [],
   "source": []
  },
  {
   "cell_type": "code",
   "execution_count": null,
   "metadata": {},
   "outputs": [],
   "source": []
  }
 ],
 "metadata": {
  "kernelspec": {
   "display_name": "Python 3",
   "language": "python",
   "name": "python3"
  },
  "language_info": {
   "codemirror_mode": {
    "name": "ipython",
    "version": 3
   },
   "file_extension": ".py",
   "mimetype": "text/x-python",
   "name": "python",
   "nbconvert_exporter": "python",
   "pygments_lexer": "ipython3",
   "version": "3.8.5"
  }
 },
 "nbformat": 4,
 "nbformat_minor": 4
}
